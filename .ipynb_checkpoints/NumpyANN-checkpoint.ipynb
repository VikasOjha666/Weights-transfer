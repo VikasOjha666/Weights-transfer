{
 "cells": [
  {
   "cell_type": "code",
   "execution_count": 1,
   "metadata": {},
   "outputs": [
    {
     "name": "stderr",
     "output_type": "stream",
     "text": [
      "Using TensorFlow backend.\n"
     ]
    }
   ],
   "source": [
    "#Importing the necessary and the dataset.\n",
    "from keras.models import load_model\n",
    "import numpy as np\n",
    "import matplotlib.pyplot as plt\n",
    "from keras.datasets import mnist\n",
    "from keras.utils import to_categorical\n",
    "\n",
    "\n",
    "# This array tracks the dim of our network to give sequential API interface.\n",
    "global shape_tracker\n",
    "shape_tracker=[]\n",
    "\n",
    "#Appends to tracker list.\n",
    "def add2trackerdict(val):\n",
    "    shape_tracker.append(val)\n",
    "\n",
    "#Loading dataset.\n",
    "(X_train,y_train),(X_test,y_test)=mnist.load_data()\n",
    "\n",
    "#Reshaping into 784 dimensional array.\n",
    "X_train=X_train.reshape(-1,784)\n",
    "X_test=X_test.reshape(-1,784)\n",
    "\n",
    "X_train=X_train/255\n",
    "X_test=X_test/255\n",
    "\n",
    "y_train=to_categorical(y_train,10)\n",
    "y_test=to_categorical(y_test,10)\n"
   ]
  },
  {
   "cell_type": "code",
   "execution_count": 2,
   "metadata": {},
   "outputs": [],
   "source": [
    "#Building blocks of the neural network.\n",
    "#Just implemented feed forward method cause we dont have to train this network.\n",
    "class Softmax:\n",
    "\tdef __init__(self):\n",
    "\t\tpass\n",
    "\tdef feed_forward(self,x):\n",
    "\t\te_x = np.exp(x - np.max(x))\n",
    "\t\treturn e_x / e_x.sum()\n",
    "\n",
    "\n",
    "class Dense:\n",
    "    def __init__(self,input_dim=False,n_units=0,learning_rate=0.1):\n",
    "\n",
    "        if input_dim:\n",
    "            self.learning_rate=learning_rate\n",
    "            self.weights=np.random.randn(input_dim,n_units)*0.01\n",
    "            self.bias=np.zeros(n_units)\n",
    "            add2trackerdict(n_units)\n",
    "        else:\n",
    "            self.learning_rate=learning_rate\n",
    "            self.weights=np.random.randn(shape_tracker[-1],n_units)*0.01\n",
    "            self.bias=np.zeros(n_units)\n",
    "            add2trackerdict(n_units)\n",
    "\n",
    "    def feed_forward(self,input):\n",
    "        return np.matmul(input,self.weights)+self.bias\n",
    "\n",
    "class ReLU:\n",
    "    def __init__(self):\n",
    "        pass\n",
    "    def feed_forward(self,x):\n",
    "        return np.maximum(0,x)\n",
    "\n",
    "\n",
    "class Sequential:\n",
    "    def __init__(self):\n",
    "         self.model=[]\n",
    "         self.train_log=[]\n",
    "         self.val_log=[]\n",
    "\n",
    "\n",
    "    def add(self,obj):\n",
    "        if len(shape_tracker)==0:\n",
    "            raise Exception(\"Input shape not specified.\")\n",
    "        else:\n",
    "            self.model.append(obj)\n",
    "\n",
    "    def feed_forward(self,X):\n",
    "        fpassstack=[]\n",
    "        input=X\n",
    "        for i in range(len(self.model)):\n",
    "            fpassstack.append(self.model[i].feed_forward(X))\n",
    "            X=self.model[i].feed_forward(X)\n",
    "        return fpassstack\n",
    "\n",
    "    def predict(self,X):\n",
    "        logits=self.feed_forward(X)[-1]\n",
    "        return logits.argmax(axis=-1)\n",
    "    \n",
    "    \n"
   ]
  },
  {
   "cell_type": "code",
   "execution_count": 3,
   "metadata": {},
   "outputs": [
    {
     "name": "stdout",
     "output_type": "stream",
     "text": [
      "WARNING:tensorflow:From C:\\Users\\ADMIN\\Anaconda3\\envs\\tensorflow15\\lib\\site-packages\\keras\\backend\\tensorflow_backend.py:63: The name tf.get_default_graph is deprecated. Please use tf.compat.v1.get_default_graph instead.\n",
      "\n",
      "WARNING:tensorflow:From C:\\Users\\ADMIN\\Anaconda3\\envs\\tensorflow15\\lib\\site-packages\\keras\\backend\\tensorflow_backend.py:492: The name tf.placeholder is deprecated. Please use tf.compat.v1.placeholder instead.\n",
      "\n",
      "WARNING:tensorflow:From C:\\Users\\ADMIN\\Anaconda3\\envs\\tensorflow15\\lib\\site-packages\\keras\\backend\\tensorflow_backend.py:3630: The name tf.random_uniform is deprecated. Please use tf.random.uniform instead.\n",
      "\n",
      "WARNING:tensorflow:From C:\\Users\\ADMIN\\Anaconda3\\envs\\tensorflow15\\lib\\site-packages\\keras\\backend\\tensorflow_backend.py:158: The name tf.get_default_session is deprecated. Please use tf.compat.v1.get_default_session instead.\n",
      "\n",
      "WARNING:tensorflow:From C:\\Users\\ADMIN\\Anaconda3\\envs\\tensorflow15\\lib\\site-packages\\keras\\backend\\tensorflow_backend.py:163: The name tf.ConfigProto is deprecated. Please use tf.compat.v1.ConfigProto instead.\n",
      "\n",
      "WARNING:tensorflow:From C:\\Users\\ADMIN\\Anaconda3\\envs\\tensorflow15\\lib\\site-packages\\keras\\backend\\tensorflow_backend.py:168: The name tf.Session is deprecated. Please use tf.compat.v1.Session instead.\n",
      "\n",
      "WARNING:tensorflow:From C:\\Users\\ADMIN\\Anaconda3\\envs\\tensorflow15\\lib\\site-packages\\keras\\backend\\tensorflow_backend.py:172: The name tf.global_variables is deprecated. Please use tf.compat.v1.global_variables instead.\n",
      "\n",
      "WARNING:tensorflow:From C:\\Users\\ADMIN\\Anaconda3\\envs\\tensorflow15\\lib\\site-packages\\keras\\backend\\tensorflow_backend.py:181: The name tf.is_variable_initialized is deprecated. Please use tf.compat.v1.is_variable_initialized instead.\n",
      "\n",
      "WARNING:tensorflow:From C:\\Users\\ADMIN\\Anaconda3\\envs\\tensorflow15\\lib\\site-packages\\keras\\backend\\tensorflow_backend.py:188: The name tf.variables_initializer is deprecated. Please use tf.compat.v1.variables_initializer instead.\n",
      "\n",
      "WARNING:tensorflow:From C:\\Users\\ADMIN\\Anaconda3\\envs\\tensorflow15\\lib\\site-packages\\keras\\optimizers.py:711: The name tf.train.Optimizer is deprecated. Please use tf.compat.v1.train.Optimizer instead.\n",
      "\n",
      "WARNING:tensorflow:From C:\\Users\\ADMIN\\Anaconda3\\envs\\tensorflow15\\lib\\site-packages\\keras\\backend\\tensorflow_backend.py:2880: calling reduce_sum_v1 (from tensorflow.python.ops.math_ops) with keep_dims is deprecated and will be removed in a future version.\n",
      "Instructions for updating:\n",
      "keep_dims is deprecated, use keepdims instead\n",
      "WARNING:tensorflow:From C:\\Users\\ADMIN\\Anaconda3\\envs\\tensorflow15\\lib\\site-packages\\keras\\backend\\tensorflow_backend.py:2884: The name tf.log is deprecated. Please use tf.math.log instead.\n",
      "\n",
      "WARNING:tensorflow:From C:\\Users\\ADMIN\\Anaconda3\\envs\\tensorflow15\\lib\\site-packages\\tensorflow_core\\python\\ops\\math_grad.py:1424: where (from tensorflow.python.ops.array_ops) is deprecated and will be removed in a future version.\n",
      "Instructions for updating:\n",
      "Use tf.where in 2.0, which has the same broadcast rule as np.where\n",
      "WARNING:tensorflow:From C:\\Users\\ADMIN\\Anaconda3\\envs\\tensorflow15\\lib\\site-packages\\keras\\backend\\tensorflow_backend.py:953: The name tf.assign_add is deprecated. Please use tf.compat.v1.assign_add instead.\n",
      "\n",
      "WARNING:tensorflow:From C:\\Users\\ADMIN\\Anaconda3\\envs\\tensorflow15\\lib\\site-packages\\keras\\backend\\tensorflow_backend.py:675: calling Constant.__init__ (from tensorflow.python.ops.init_ops) with dtype is deprecated and will be removed in a future version.\n",
      "Instructions for updating:\n",
      "Call initializer instance with the dtype argument instead of passing it to the constructor\n",
      "WARNING:tensorflow:From C:\\Users\\ADMIN\\Anaconda3\\envs\\tensorflow15\\lib\\site-packages\\keras\\backend\\tensorflow_backend.py:940: The name tf.assign is deprecated. Please use tf.compat.v1.assign instead.\n",
      "\n"
     ]
    }
   ],
   "source": [
    "#Build the model.\n",
    "model=Sequential()\n",
    "model.add(Dense(input_dim=X_train.shape[1],n_units=32))\n",
    "model.add(ReLU())\n",
    "model.add(Dense(n_units=10))\n",
    "model.add(Softmax())\n",
    "\n",
    "\n",
    "#Load the keras trained model.\n",
    "trained_model=load_model('testmodel.h5')\n",
    "\n",
    "\n"
   ]
  },
  {
   "cell_type": "code",
   "execution_count": 4,
   "metadata": {},
   "outputs": [],
   "source": [
    "#Lets store the weights the weights from the keras model to a list.\n",
    "weights_list=[]\n",
    "\n",
    "for layer in trained_model.layers: #trained_model.layers returns all the layer in trained_model.\n",
    "    weights_list.append(layer.get_weights()) #layer.get_weights() returns weights in that layer in form of list of numpy arrays. \n",
    "\n",
    "    \n",
    "\"\"\"In our numpy network ReLU is a seperate layer which don't have weights.\n",
    "Here in our model the Dense layer exists at index 0 and 2 which have weights \n",
    "Hence we set the weights at index 0 in weights_list which is the weight of dense\n",
    "layer having 32 units and hence we set the weights of the layer at index 0 in \n",
    "our model to this weight.Similarly inweights_list the weight at index 1 \n",
    "corresponds to dense layer having 10 units.So we set the weights of the layer at \n",
    "index 2.\"\"\"\n",
    "model.model[0].weights=weights_list[0][0] \n",
    "model.model[2].weights=weights_list[1][0]\n",
    "\n",
    "\n",
    "    "
   ]
  },
  {
   "cell_type": "code",
   "execution_count": 5,
   "metadata": {},
   "outputs": [
    {
     "data": {
      "image/png": "[encoded data removed]",
      "text/plain": [
       "<Figure size 432x288 with 4 Axes>"
      ]
     },
     "metadata": {
      "needs_background": "light"
     },
     "output_type": "display_data"
    }
   ],
   "source": [
    "#Lets test it on digit images.\n",
    "\n",
    "fig, axs = plt.subplots(2, 2)\n",
    "fig.tight_layout(pad=3.0)\n",
    "axs[0,0].imshow(X_test[0].reshape(28,28),cmap='gray')\n",
    "pred=model.predict(X_test[0])\n",
    "axs[0,0].set_title('predicted='+str(pred))\n",
    "\n",
    "axs[0,1].imshow(X_test[1].reshape(28,28),cmap='gray')\n",
    "pred=pred=model.predict(X_test[1])\n",
    "axs[0,1].set_title('predicted='+str(pred))\n",
    "\n",
    "axs[1,0].imshow(X_test[2].reshape(28,28),cmap='gray')\n",
    "pred=pred=model.predict(X_test[2])\n",
    "axs[1,0].set_title('predicted='+str(pred))\n",
    "\n",
    "axs[1,1].imshow(X_test[3].reshape(28,28),cmap='gray')\n",
    "pred=pred=model.predict(X_test[3])\n",
    "axs[1,1].set_title('predicted='+str(pred))\n",
    "\n",
    "plt.show()\n",
    "\n",
    "\n"
   ]
  },
  {
   "cell_type": "code",
   "execution_count": null,
   "metadata": {},
   "outputs": [],
   "source": []
  },
  {
   "cell_type": "code",
   "execution_count": null,
   "metadata": {},
   "outputs": [],
   "source": []
  },
  {
   "cell_type": "code",
   "execution_count": null,
   "metadata": {},
   "outputs": [],
   "source": []
  }
 ],
 "metadata": {
  "kernelspec": {
   "display_name": "tensorflow15",
   "language": "python",
   "name": "tensorflow15"
  },
  "language_info": {
   "codemirror_mode": {
    "name": "ipython",
    "version": 3
   },
   "file_extension": ".py",
   "mimetype": "text/x-python",
   "name": "python",
   "nbconvert_exporter": "python",
   "pygments_lexer": "ipython3",
   "version": "3.7.7"
  }
 },
 "nbformat": 4,
 "nbformat_minor": 4
}
